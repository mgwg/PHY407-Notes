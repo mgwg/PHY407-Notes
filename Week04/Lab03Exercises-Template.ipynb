{
 "cells": [
  {
   "cell_type": "markdown",
   "id": "0ef4b8a4-46d7-47f6-bba5-881b59b3c17c",
   "metadata": {
    "tags": []
   },
   "source": [
    "## Gaussian Integration for Relativistic Particle on a Spring"
   ]
  },
  {
   "cell_type": "markdown",
   "id": "3cd91cb9-d3f3-441c-8ce6-dba5a994f3c9",
   "metadata": {
    "jp-MarkdownHeadingCollapsed": true,
    "tags": []
   },
   "source": [
    "### Physics Background"
   ]
  },
  {
   "cell_type": "markdown",
   "id": "c5549195-fcb4-4b5b-b8d5-1c8588124290",
   "metadata": {},
   "source": [
    "The energy of a relativistic particle, which is conserved, is given by\n",
    "$$E=\\frac{mc^2}{\\sqrt{1-v^2/c^2}}+\\frac 12 kx^2 $$\n",
    "which can be rearranged to show that\n",
    "$$\n",
    "  v^2=c^2\\left[1-\\left(\\frac{mc^2}{E-kx^2/2}\\right)^2\\right].\n",
    "$$\n",
    "Assume the particle started from rest, from an initial position $x_0$.\n",
    "Then $E~=~mc^2~+~\\frac 12 kx_0^2$ and after rearranging terms we can write the following expression for the positive root:\n",
    "$$\n",
    "  v=\\frac{dx}{dt}=c\\left\\{\\frac{k\\left(x_0^2-x^2\\right)\\left[2mc^2 + k\\left(x_0^2-x^2\\right)/2\\right]}{2\\left[mc^2 + k\\left(x_0^2-x^2\\right)/2\\right]^2}\\right\\}^{1/2} = g(x),\n",
    "$$\n",
    "where $g(x)$ is a function of $x$.\n",
    "\n",
    "The period for the oscillation is given by four times the time taken for the particle to travel from $x=x_0$ to $x=0$.\n",
    "Using separation of variables:\n",
    "$$\n",
    "  T = 4\\int_0^{x_0}\\frac{d x'}{g(x')} $$\n",
    "We expect $T$ to approach $4x_0/c$"
   ]
  },
  {
   "cell_type": "markdown",
   "id": "b7c8afb0-601c-4896-a360-48f208f3345f",
   "metadata": {},
   "source": [
    "**Small-amplitude (classical) limit:**\n",
    "Notice that for $k\\left(x_0^2-x^2\\right)/2 \\ll mc^2$ we find $v\\approx \\sqrt{k\\left(x_0^2-x^2\\right)}$, as expected for an energy conserving linear harmonic oscillator.\n",
    "\n",
    "We expect $T$ to approach $2\\pi\\sqrt{m/k}$ as $x_0$ approaches 0."
   ]
  },
  {
   "cell_type": "markdown",
   "id": "24f2f846-9bef-4f45-b851-ab4052e56be9",
   "metadata": {
    "tags": []
   },
   "source": [
    "**Large-amplitude (highly relativistic) limit:** Notice that for $k\\left(x_0^2-x^2\\right)/2\\gg mc^2$, $v$ approaches $c$ but remains less than $c$.\n",
    "\n",
    "We can ask, what initial displacement $x_0 = x_c >0$ for a particle initially at rest would lead to a speed $c$ at $x=0$? The oscillator has initial potential, and therefore total, energy $kx_0^2/2$. For this energy to be entirely converted into maximum kinetic energy $mc^2/2$, you need $kx_0^2 = mc^2$. From this, we can find $x_0 = x_c = c\\sqrt{\\frac mk} $"
   ]
  },
  {
   "cell_type": "markdown",
   "id": "3d6103f7-dd2f-463e-8213-c5f0a511052c",
   "metadata": {
    "jp-MarkdownHeadingCollapsed": true,
    "tags": []
   },
   "source": [
    "### Computational Problem"
   ]
  },
  {
   "cell_type": "markdown",
   "id": "5e668efd-6f7b-4ec0-be72-b2be18375384",
   "metadata": {},
   "source": [
    "  Using Gaussian quadrature, we will numerically calculate the period of the spring, and see how it transitions from the classical to the highly relativistic case.\n",
    "  The idea is to calculate $T$ multiple times for a range of initial positions $x_0$, assuming a mass of $m=1$ kg and a spring constant $k=12$ N/m."
   ]
  },
  {
   "cell_type": "markdown",
   "id": "063da102-90ba-4f98-8fec-3d7e63c10b51",
   "metadata": {
    "tags": []
   },
   "source": [
    "### Exercise 1"
   ]
  },
  {
   "cell_type": "markdown",
   "id": "e7929ad3-273a-4678-86d8-c6d675d63621",
   "metadata": {},
   "source": [
    "Use Gaussian Quadrature to numerically calculate the period for $N=8$ and $N=16$ for $x_0=1$cm.\n",
    "\n",
    "Estimate the fractional error of the calculation using these two $N$'s.\n",
    "\n",
    "Taking the classical value as the truth, find the relative error for each of these two $N$'s."
   ]
  },
  {
   "cell_type": "code",
   "execution_count": 44,
   "id": "fbe9ce7e-1991-4dd4-8934-12915f7b7634",
   "metadata": {
    "tags": []
   },
   "outputs": [],
   "source": [
    "# load gaussxw\n",
    "from pylab import *\n",
    "def gaussxw(N):\n",
    "\n",
    "    # Initial approximation to roots of the Legendre polynomial\n",
    "    a = linspace(3,4*N-1,N)/(4*N+2)\n",
    "    x = cos(pi*a+1/(8*N*N*tan(a)))\n",
    "\n",
    "    # Find roots using Newton's method\n",
    "    epsilon = 1e-15\n",
    "    delta = 1.0\n",
    "    while delta>epsilon:\n",
    "        p0 = ones(N,float)\n",
    "        p1 = copy(x)\n",
    "        for k in range(1,N):\n",
    "            p0,p1 = p1,((2*k+1)*x*p1-k*p0)/(k+1)\n",
    "        dp = (N+1)*(p0-x*p1)/(1-x*x)\n",
    "        dx = p1/dp\n",
    "        x -= dx\n",
    "        delta = max(abs(dx))\n",
    "\n",
    "    # Calculate the weights\n",
    "    w = 2*(N+1)*(N+1)/(N*N*(1-x*x)*dp*dp)\n",
    "\n",
    "    return x,w\n",
    "\n",
    "def gaussxwab(N,a,b):\n",
    "    x,w = gaussxw(N)\n",
    "    return 0.5*(b-a)*x+0.5*(b+a),0.5*(b-a)*w"
   ]
  },
  {
   "cell_type": "markdown",
   "id": "085d7eee-55e5-46b0-ac82-7d5d9c9ccce9",
   "metadata": {
    "tags": []
   },
   "source": [
    "### Exercise 2"
   ]
  },
  {
   "cell_type": "markdown",
   "id": "b2f8705e-1477-441e-b4b0-26c5e5624b8b",
   "metadata": {},
   "source": [
    "Plot the integrands $4/g_k$ and the weighted values $4w_k/g_k$ at the sampling points.\n",
    "\n",
    "Describe how these quantities behave as the $x_0$ limit (i.e. the upper limit) of integration is approached. How do you think this behaviour might be affecting the accuracy of the integral calculation?"
   ]
  },
  {
   "cell_type": "markdown",
   "id": "c6d34e60-b26e-42f7-9af0-f3aedf082ce1",
   "metadata": {
    "tags": []
   },
   "source": [
    "### Exercise 3"
   ]
  },
  {
   "cell_type": "markdown",
   "id": "6e85ff9f-6211-4bea-8141-58f3ff741f1e",
   "metadata": {},
   "source": [
    "For this spring, $x_c \\approx 8.65\\times 10^{4} $ km. Plot $T$ as a function of $x_0$ for $x_0$ in the range 1m$<x<10x_c$. \n",
    "\n",
    "Compare it to the classical limit (show it as a horizontal line on your plot) and to the highly relativistic limit (show it as a diagonal line on your plot)."
   ]
  },
  {
   "cell_type": "markdown",
   "id": "061b8222-fccc-4f32-ada4-adb710fefef6",
   "metadata": {},
   "source": [
    "## Numerical Differentiation Errors"
   ]
  },
  {
   "cell_type": "markdown",
   "id": "ade93af5-d42c-400e-82c8-e52dea42b2f1",
   "metadata": {},
   "source": [
    "Section 5.10.2 in the textbook says the optimum step size for forward difference differentiation schemes is equal to about $\\sqrt{C} \\approx 10^{-8}$. Let's demonstrate this using $f(x) = e^{-x^2}$"
   ]
  },
  {
   "cell_type": "markdown",
   "id": "a411aa16-9637-450b-b9d9-416be0e0558a",
   "metadata": {},
   "source": [
    "### Exercise 4"
   ]
  },
  {
   "cell_type": "markdown",
   "id": "785ca2c0-bba8-4ea7-ab50-29ea14045054",
   "metadata": {},
   "source": [
    "Using a forward difference scheme, numerically find the derivative of $f(x)$ at $x=0.5$, for a range of $h$'s from $10^{-16} \\rightarrow 10^0$ increasing by a factor of 10 each step. (You should have 17 values for $h$). \n",
    "\n",
    "For each value of $h$, take the absolute value of the relative error between the numerical result and the true answer. Plot this error as a function of $h$ on a log-log plot, which should show that the minimum is indeed at $h \\approx 10^{-8}$."
   ]
  },
  {
   "cell_type": "markdown",
   "id": "282233aa-d013-4a5b-a96c-8ddff7e8b2ed",
   "metadata": {
    "tags": []
   },
   "source": [
    "### Exercise 5"
   ]
  },
  {
   "cell_type": "markdown",
   "id": "540c83ce-801f-4f43-a6e2-407f26415eeb",
   "metadata": {},
   "source": [
    "Repeat the previous exercise using a central difference scheme instead of the forward difference scheme.\n",
    "\n",
    "Put the relative error of the central difference scheme (compared to the true value) onto your plot from the previous exercise. You should have two lines on the same plot, one for central difference error and one for forward difference error.\n",
    "\n",
    "Briefly explain the key features of your plot. Does the central difference scheme always clearly beat the forward difference scheme in terms of accuracy?"
   ]
  },
  {
   "cell_type": "markdown",
   "id": "2f5d959b-52f6-48c8-8d82-1ca06cc36ba3",
   "metadata": {
    "tags": []
   },
   "source": [
    "## Fun with interpolation"
   ]
  },
  {
   "cell_type": "code",
   "execution_count": 40,
   "id": "c0248890-7756-48ea-b04d-0927e1c7a7e2",
   "metadata": {
    "tags": []
   },
   "outputs": [
    {
     "data": {
      "image/png": "[encoded data removed]",
      "text/plain": [
       "<Figure size 640x480 with 1 Axes>"
      ]
     },
     "metadata": {},
     "output_type": "display_data"
    }
   ],
   "source": [
    "import matplotlib.pyplot as plt\n",
    "import numpy as np\n",
    "from scipy.interpolate import CubicSpline, interp1d\n",
    "\n",
    "# fake data to interpolate from\n",
    "x = np.arange(-10,10)\n",
    "y = 1./(2.+x**2)\n",
    "\n",
    "# points at which we want to interpolate\n",
    "xs = np.arange(-9, 9, 0.1)\n",
    "\n",
    "# Apply Linear interpolation\n",
    "linear_int = interp1d(x,y)\n",
    "ys_lin = linear_int(xs)\n",
    "\n",
    "# apply cubic spline\n",
    "cs = CubicSpline(x, y)\n",
    "ys_cub = cs(xs)\n",
    "  \n",
    "# plot linear interpolation\n",
    "plt.plot(xs, ys_lin, 'o', label='linear')\n",
    "plt.plot(xs, ys_cub, 'o', label='cubicspline')\n",
    "plt.plot(x, y, '*', label='data')\n",
    "plt.legend()\n",
    "plt.show()"
   ]
  },
  {
   "cell_type": "markdown",
   "id": "97f1bfd6-bebb-4f37-9085-c1c931e642ef",
   "metadata": {
    "tags": []
   },
   "source": [
    "### Exercise 6"
   ]
  },
  {
   "cell_type": "markdown",
   "id": "50946409-c21f-4129-b2d3-7cc0fb403f0a",
   "metadata": {},
   "source": [
    "Replace the definition of y in the template notebook with the following:"
   ]
  },
  {
   "cell_type": "raw",
   "id": "986bc426-d7dc-4e20-8e9a-a01654a2de27",
   "metadata": {},
   "source": [
    "y = 1./(1.+(2*x)**2)"
   ]
  },
  {
   "cell_type": "markdown",
   "id": "8a9e2da7-fd8b-42dc-be7b-0d40a2db2533",
   "metadata": {
    "tags": []
   },
   "source": [
    "Show the plot. Is the cubic spline still nicer than the linear interpolation?"
   ]
  }
 ],
 "metadata": {
  "kernelspec": {
   "display_name": "Python 3 (ipykernel)",
   "language": "python",
   "name": "python3"
  },
  "language_info": {
   "codemirror_mode": {
    "name": "ipython",
    "version": 3
   },
   "file_extension": ".py",
   "mimetype": "text/x-python",
   "name": "python",
   "nbconvert_exporter": "python",
   "pygments_lexer": "ipython3",
   "version": "3.10.9"
  }
 },
 "nbformat": 4,
 "nbformat_minor": 5
}
