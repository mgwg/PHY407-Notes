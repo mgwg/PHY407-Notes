{
 "cells": [
  {
   "cell_type": "markdown",
   "metadata": {
    "slideshow": {
     "slide_type": "skip"
    }
   },
   "source": [
    "<font color=\"hotpink\"> Colour swatch </font>\n",
    "\n",
    "*Supporting textbook chapters for week 1: 2, 3 and 4.3*\n",
    "\n",
    "This is an example of \"lecture notes\".\n",
    "As you will quickly find out, this course is by nature a lab course.\n",
    "Therefore, my \"lecture notes\" will not often follow the linear progression of regular lecture notes.\n",
    "This is particularly true for this first lecture, in which I merely want to give you pointers to do the first lab."
   ]
  },
  {
   "cell_type": "markdown",
   "metadata": {},
   "source": [
    "> Note test"
   ]
  },
  {
   "cell_type": "markdown",
   "metadata": {
    "slideshow": {
     "slide_type": "subslide"
    }
   },
   "source": [
    "# General Problem-Solving Approach\n",
    "\n",
    "1. **Math model:** often, but not always, continuous.\n",
    "2. **Translate and discretize:** set up discrete arrays of independent variables (e.g., $x$, $t$), dependent variables (e.g. $v(t)$, $a(t)$), and define operators on these variables ($dv/dt$, $ma$...) according to the model.\n",
    "3. **Initialize** parameters and variables appropriately. Give them meaningful names, and avoid hard-coding parameter values. \n",
    "4. **Evaluate:** run algorithms (using the operators) on these variables. Make your code modular, i.e. make separate functions for various parts of the algorithms rather than making one long block of code.\n",
    "5. **Debug:** bang your head against the wall for awhile to figure out why it didn't work properly. Carefully read any error messages produced. Add print statements to see intermediate values of variables. You may want to use a built-in debugger in an IDE. Remember, there's almost always another bug sitting somewhere in your code.\n",
    "6. **Analyze:** some extra processing of the raw results (figures, etc.)\n",
    "7. **Sanity check:** ask yourself whether your analysis outputs make sense (are all values the correct order of magnitude? are plots the expected shapes? etc.) If not, go back to step 5."
   ]
  },
  {
   "cell_type": "markdown",
   "metadata": {
    "slideshow": {
     "slide_type": "slide"
    },
    "tags": []
   },
   "source": [
    "# Pseudocode and Comments"
   ]
  },
  {
   "cell_type": "markdown",
   "metadata": {
    "slideshow": {
     "slide_type": "skip"
    }
   },
   "source": [
    "The concept of \"Pseudocode\" is loosely defined, see for example https://en.wikipedia.org/wiki/Pseudocode. In this lecture, I will use a **very** loose definition for it, i.e., mostly plain English with bullet points.\n",
    "You are free to use your own version. Just make sure that it is understandable by someone who speaks English and is vaguely familiar with the problem you're trying to solve."
   ]
  },
  {
   "cell_type": "markdown",
   "metadata": {
    "slideshow": {
     "slide_type": "fragment"
    }
   },
   "source": [
    "* Pseudocode is the planned version of your code. It describes your algorithm(s).\n",
    "* Writing pseudocode helps ensure that your planned logic for the algorithm is sound. Therefore you should write pseudocode before starting any actual code.\n",
    "* Pseudocode should be concise, logical, step-by-step.\n",
    "* Coding = turning your pseudocode $\\to$ specific programming language. You should be able to take your pseudocode and convert it into any typical programming language.\n",
    "* You may distribute your pseudocode throughout your real code, in the form of **comments**, as you go through the process of coding. Also **keep a copy of the pseudocode intact** so you can refer back to it, and ensure each block of code starts with a brief overview of what the block will do."
   ]
  },
  {
   "cell_type": "markdown",
   "metadata": {
    "slideshow": {
     "slide_type": "subslide"
    }
   },
   "source": [
    "Examples for sequential stuff:\n",
    "* Input: `READ`, `OBTAIN`, `GET`\n",
    "* Initialize: `SET`, `DEFINE`\n",
    "* Compute: `COMPUTE`, `CALCULATE`, `DETERMINE`\n",
    "* Add one: `INCREMENT`, `BUMP`\n",
    "* Output: `PRINT`, `DISPLAY`, `PLOT`, `WRITE`"
   ]
  },
  {
   "cell_type": "markdown",
   "metadata": {
    "slideshow": {
     "slide_type": "subslide"
    }
   },
   "source": [
    "Examples for conditions and loops:\n",
    "* `WHILE`, `IF-THEN-ELSE`, `REPEAT-UNTIL`, `CASE`, `FOR`\n",
    "\n",
    "Should also include calling functions:\n",
    "* `CALL`"
   ]
  },
  {
   "cell_type": "code",
   "execution_count": null,
   "metadata": {
    "slideshow": {
     "slide_type": "notes"
    }
   },
   "outputs": [],
   "source": [
    "# Read radius r from keyboard\n",
    "# Read angle theta in degs from keyboard input\n",
    "# convert degrees into radians\n",
    "# Compute x, y = r*(cos(theta), sin(theta))\n",
    "# print the result to screen"
   ]
  },
  {
   "cell_type": "code",
   "execution_count": 1,
   "metadata": {
    "slideshow": {
     "slide_type": "fragment"
    }
   },
   "outputs": [],
   "source": [
    "# Read radius from keyboard input\n",
    "# Read angle in degrees from keyboard input\n",
    "# Convert angle in radians\n",
    "# compute x and y from r an theta\n",
    "# Print the result to screen"
   ]
  },
  {
   "cell_type": "markdown",
   "metadata": {
    "slideshow": {
     "slide_type": "subslide"
    }
   },
   "source": [
    "\n",
    "Alternative: typeset the pseudocode in your report."
   ]
  },
  {
   "cell_type": "code",
   "execution_count": 2,
   "metadata": {
    "slideshow": {
     "slide_type": "subslide"
    }
   },
   "outputs": [],
   "source": [
    "import numpy as np  # import numpy"
   ]
  },
  {
   "cell_type": "code",
   "execution_count": 3,
   "metadata": {
    "scrolled": true,
    "slideshow": {
     "slide_type": "fragment"
    }
   },
   "outputs": [
    {
     "name": "stdout",
     "output_type": "stream",
     "text": [
      "Enter r: 13\n"
     ]
    }
   ],
   "source": [
    "# From keyboard, read the radius and save.\n",
    "r = float(input(\"Enter r: \"))"
   ]
  },
  {
   "cell_type": "code",
   "execution_count": 4,
   "metadata": {
    "slideshow": {
     "slide_type": "fragment"
    }
   },
   "outputs": [
    {
     "name": "stdout",
     "output_type": "stream",
     "text": [
      "Enter theta in degs: 45\n"
     ]
    }
   ],
   "source": [
    "# From keyboard, read the angle in degrees and save.\n",
    "theta = float(input(\"Enter theta in degs: \"))"
   ]
  },
  {
   "cell_type": "code",
   "execution_count": 7,
   "metadata": {
    "slideshow": {
     "slide_type": "fragment"
    }
   },
   "outputs": [],
   "source": [
    "# Do the conversion from degrees to radians\n",
    "theta_r = theta/180*np.pi"
   ]
  },
  {
   "cell_type": "code",
   "execution_count": 8,
   "metadata": {
    "slideshow": {
     "slide_type": "fragment"
    }
   },
   "outputs": [],
   "source": [
    "# Compute $(x, y) = r(\\cos\\theta_r, \\sin\\theta_r)$.\n",
    "x, y = r*np.cos(theta_r), r*np.sin(theta_r) "
   ]
  },
  {
   "cell_type": "code",
   "execution_count": 10,
   "metadata": {
    "slideshow": {
     "slide_type": "fragment"
    }
   },
   "outputs": [
    {
     "name": "stdout",
     "output_type": "stream",
     "text": [
      "x = 9.1924, y = 9.19e+00\n"
     ]
    }
   ],
   "source": [
    "# Print result (x, y) to screen.\n",
    "print(\"x = {0:.4f}, y = {1:.2e}\".format(x, y))"
   ]
  },
  {
   "cell_type": "markdown",
   "metadata": {
    "slideshow": {
     "slide_type": "subslide"
    }
   },
   "source": [
    "# Example 1\n",
    "\n",
    "Suppose the problem is to find the number of radioactive atoms of uranium $N$ as a function of time given initial $N_0$ and\n",
    "$$\\frac{dN}{dt} = -\\frac{N}{\\tau}.$$\n",
    "($\\tau =$ decay constant), using Euler method for integration, for a duration of $5\\tau$."
   ]
  },
  {
   "cell_type": "code",
   "execution_count": 15,
   "metadata": {
    "slideshow": {
     "slide_type": "fragment"
    },
    "tags": []
   },
   "outputs": [],
   "source": [
    "# Pseudocode:\n",
    "# DEFINE decay constant tau, initial N0, duration, timestep, number of integration points nvals\n",
    "# SET duration = 5tau\n",
    "# SET nvals = 1001\n",
    "# INITIALIZE N_array with zeros, first value = N0\n",
    "# INITIALIZE time_array with nvals equally-spaced values between 0 and duration\n",
    "# COMPUTE timestep dt = time_array spacing\n",
    "# FOR 100 iterations:\n",
    "#     COMPUTE next value of N_array: CALL Decay using current value, timestep, tau\n",
    "# PLOT N_array vs. time_array"
   ]
  },
  {
   "cell_type": "code",
   "execution_count": 4,
   "metadata": {
    "slideshow": {
     "slide_type": "subslide"
    },
    "tags": []
   },
   "outputs": [],
   "source": [
    "\"\"\" Code that computes the number of radioactive atoms of uranium N\n",
    "as function of time, given tau and N0 and using Euler method. \"\"\"\n",
    "\n",
    "# Import packages\n",
    "import numpy as np\n",
    "import matplotlib.pyplot as plt"
   ]
  },
  {
   "cell_type": "code",
   "execution_count": 16,
   "metadata": {
    "tags": []
   },
   "outputs": [],
   "source": [
    "def Decay(previous, timestep, lifetime):\n",
    "    return (previous - timestep * previous / lifetime)"
   ]
  },
  {
   "cell_type": "code",
   "execution_count": 17,
   "metadata": {
    "slideshow": {
     "slide_type": "fragment"
    },
    "tags": []
   },
   "outputs": [],
   "source": [
    "# Define decay constant tau, initial N0, and duration\n",
    "tau = 6.446e9  # [s] tau for U238\n",
    "N0 = 1e6  # [1] initial N\n",
    "duration = 5*tau  # [s] the end of the simulation time\n",
    "# Initialize time array\n",
    "nvals = 1001\n",
    "time = np.linspace(0., duration, nvals)\n",
    "# Compute dt the time step\n",
    "dt = time[1] - time[0]\n",
    "# Initialize a number array with same number of elements\n",
    "N = 0*time\n",
    "N[0] = N0"
   ]
  },
  {
   "cell_type": "code",
   "execution_count": 18,
   "metadata": {
    "slideshow": {
     "slide_type": "fragment"
    },
    "tags": []
   },
   "outputs": [],
   "source": [
    "# 5. FOR nvals iterations:\n",
    "#        Increment the N array with Euler: N[i+1] = N[i] - dt*N[i]/tau\n",
    "for ii in range(nvals-1):\n",
    "    N[ii+1] = Decay(N[ii], dt, tau)"
   ]
  },
  {
   "cell_type": "code",
   "execution_count": 24,
   "metadata": {
    "slideshow": {
     "slide_type": "subslide"
    },
    "tags": []
   },
   "outputs": [
    {
     "data": {
      "image/png": "[encoded data removed]",
      "text/plain": [
       "<Figure size 960x720 with 1 Axes>"
      ]
     },
     "metadata": {},
     "output_type": "display_data"
    }
   ],
   "source": [
    "# 6. Plot N vs. t\n",
    "plt.figure(dpi=150)\n",
    "plt.plot(time, N, label='Euler')\n",
    "plt.title('Radioactive decay of uranium')\n",
    "plt.xlabel('Time [s]')\n",
    "plt.ylabel('Number of atoms')\n",
    "# plt.plot(time, N0*np.exp(-time/tau), '--', label\n",
    "plt.grid()\n",
    "plt.legend()\n",
    "plt.tight_layout()"
   ]
  },
  {
   "cell_type": "markdown",
   "metadata": {},
   "source": [
    "# Example 2\n",
    "\n",
    "Given position $x(t)$ of a particle undergoing SHO with angular frequecy 0.5 rad/s, initial position 3 m, initial velocity 0 m/s, calculate velocity and acceleration using simple finite difference"
   ]
  },
  {
   "cell_type": "code",
   "execution_count": 27,
   "metadata": {
    "slideshow": {
     "slide_type": "subslide"
    }
   },
   "outputs": [],
   "source": [
    "# import numpy as np  \n",
    "# import matplotlib.pyplot as plt"
   ]
  },
  {
   "cell_type": "code",
   "execution_count": 25,
   "metadata": {
    "slideshow": {
     "slide_type": "fragment"
    },
    "tags": []
   },
   "outputs": [],
   "source": [
    "# Define parameters\n",
    "omega = 0.5  # [rad/s] angular frequency\n",
    "A = 3.  # [m] displacement amplitude\n",
    "# discretize time\n",
    "endtime = 30. # [s] duration of simulation\n",
    "N = 101 # number of time points\n",
    "t = np.linspace(0, endtime, N) \n",
    "# arrays of dependent variables: positions, velocities, accelerations\n",
    "x = np.empty(N)  \n",
    "v = np.empty(N-1) \n",
    "a = np.empty(N-2)  "
   ]
  },
  {
   "cell_type": "code",
   "execution_count": 31,
   "metadata": {
    "tags": []
   },
   "outputs": [],
   "source": [
    "# operation for finite difference algorithm\n",
    "def finite_diff(val1, val2, delta):\n",
    "    return (val2 - val1) / delta"
   ]
  },
  {
   "cell_type": "code",
   "execution_count": 26,
   "metadata": {
    "slideshow": {
     "slide_type": "subslide"
    },
    "tags": []
   },
   "outputs": [],
   "source": [
    "# Initialize: define signal on discretized grid\n",
    "x = A*np.cos(omega*t)"
   ]
  },
  {
   "cell_type": "code",
   "execution_count": 32,
   "metadata": {
    "slideshow": {
     "slide_type": "fragment"
    },
    "tags": []
   },
   "outputs": [],
   "source": [
    "# Define velocity using finite differences: v = Delta x/Delta t\n",
    "dt = t[1] - t[0]\n",
    "for k in range(N-1):\n",
    "    v[k] = finite_diff (x[k], x[k+1], dt)\n",
    "\n",
    "# Define acceleration using finite differences: a = Delta v/Delta t\n",
    "for k in range(N-2):\n",
    "    a[k] = finite_diff (v[k], v[k+1], dt)"
   ]
  },
  {
   "cell_type": "code",
   "execution_count": 33,
   "metadata": {
    "slideshow": {
     "slide_type": "subslide"
    },
    "tags": []
   },
   "outputs": [
    {
     "name": "stdout",
     "output_type": "stream",
     "text": [
      "t is  [ 0.   0.3  0.6  0.9  1.2  1.5  1.8  2.1  2.4  2.7  3.   3.3  3.6  3.9\n",
      "  4.2  4.5  4.8  5.1  5.4  5.7  6.   6.3  6.6  6.9  7.2  7.5  7.8  8.1\n",
      "  8.4  8.7  9.   9.3  9.6  9.9 10.2 10.5 10.8 11.1 11.4 11.7 12.  12.3\n",
      " 12.6 12.9 13.2 13.5 13.8 14.1 14.4 14.7 15.  15.3 15.6 15.9 16.2 16.5\n",
      " 16.8 17.1 17.4 17.7 18.  18.3 18.6 18.9 19.2 19.5 19.8 20.1 20.4 20.7\n",
      " 21.  21.3 21.6 21.9 22.2 22.5 22.8 23.1 23.4 23.7 24.  24.3 24.6 24.9\n",
      " 25.2 25.5 25.8 26.1 26.4 26.7 27.  27.3 27.6 27.9 28.2 28.5 28.8 29.1\n",
      " 29.4 29.7 30. ]\n"
     ]
    }
   ],
   "source": [
    "# debug: print results\n",
    "print(\"t is \", t)"
   ]
  },
  {
   "cell_type": "code",
   "execution_count": 34,
   "metadata": {
    "slideshow": {
     "slide_type": "subslide"
    },
    "tags": []
   },
   "outputs": [
    {
     "name": "stdout",
     "output_type": "stream",
     "text": [
      "x is  [ 3.          2.96631323  2.86600947  2.70134131  2.47600684  2.19506661\n",
      "  1.8648299   1.49271314  1.08707326  0.65702006  0.21221161 -0.23736267\n",
      " -0.68160628 -1.11054249 -1.51453831 -1.88452087 -2.21218115 -2.49016061\n",
      " -2.71221643 -2.87336171 -2.96997749 -2.99989398 -2.96243931 -2.85845464\n",
      " -2.69027525 -2.46167807 -2.17779691 -1.84500713 -1.47078246 -1.0635272\n",
      " -0.6323874  -0.18704554  0.26249695  0.70614433  1.13393323  1.53625643\n",
      "  1.90407863  2.22913932  2.50413835  2.72289984  2.88051086  2.97343182\n",
      "  2.99957591  2.95835599  2.85069778  2.67901903  2.4471753   2.16037329\n",
      "  1.82505394  1.44874782  1.03990595  0.60771004  0.16186626 -0.28761268\n",
      " -0.73063246 -1.15724381 -1.55786596 -1.9235018  -2.24593994 -2.5179391\n",
      " -2.73339079 -2.8874564  -2.97667598 -2.99904582 -2.95406357 -2.84273941\n",
      " -2.66757346 -2.43249955 -2.14279696 -1.80497176 -1.42661078 -1.01621121\n",
      " -0.58298972 -0.13667554  0.31270808  0.75506895  1.1804726   1.57936538\n",
      "  1.94278902  2.2625818   2.53156188  2.74368853  2.89419785  2.97970973\n",
      "  2.99830376  2.94956234  2.83458011  2.65593933  2.41765187  2.12506917\n",
      "  1.78476199  1.40437291  0.99244463  0.5582282   0.11147515 -0.33778138\n",
      " -0.77945207 -1.20361795 -1.60075316 -1.96193891 -2.27906374]\n"
     ]
    }
   ],
   "source": [
    "print(\"x is \", x)"
   ]
  },
  {
   "cell_type": "code",
   "execution_count": 35,
   "metadata": {
    "slideshow": {
     "slide_type": "subslide"
    },
    "tags": []
   },
   "outputs": [
    {
     "name": "stdout",
     "output_type": "stream",
     "text": [
      "a is  [-0.74018889 -0.71515993 -0.67407002 -0.61784195 -0.54773849 -0.46533399\n",
      " -0.3724791  -0.27125913 -0.16394727 -0.0529535   0.05922949  0.17008231\n",
      "  0.27711545  0.37792517  0.47024751  0.5520091   0.62137376  0.67678371\n",
      "  0.71699455  0.74110324  0.74856835  0.73922223  0.71327476  0.67130869\n",
      "  0.61426647  0.54342915  0.46038758  0.3670067   0.26538364  0.15780064\n",
      "  0.04667377 -0.06550128 -0.17620533 -0.28295217 -0.38334453 -0.47512779\n",
      " -0.55624071 -0.62486165 -0.67944956 -0.71877849 -0.7419652  -0.74848898\n",
      " -0.73820331 -0.71133918 -0.66849991 -0.61064757 -0.53908141 -0.45540863\n",
      " -0.36150836 -0.2594894  -0.15164286 -0.04039075  0.07176845  0.18231589\n",
      "  0.2887689   0.38873679  0.47997448  0.56043299  0.62830538  0.68206738\n",
      "  0.72051162  0.74277472  0.74835671  0.73713221  0.70935332  0.66564388\n",
      "  0.60698551  0.53469556  0.45039749  0.35598447  0.25357681  0.14547436\n",
      "  0.03410487 -0.07803055 -0.18841356 -0.29456522 -0.39410157 -0.48478725\n",
      " -0.56458566 -0.63170469 -0.68463699 -0.72219383 -0.74353174 -0.74817154\n",
      " -0.73600901 -0.70731732 -0.66274079 -0.60328054 -0.53027191 -0.44535452\n",
      " -0.35043542 -0.2476463  -0.13929558 -0.02781657  0.08428713  0.19449792\n",
      "  0.30034071  0.3994385   0.48956576]\n"
     ]
    }
   ],
   "source": [
    "print(\"a is \", a) "
   ]
  },
  {
   "cell_type": "code",
   "execution_count": 44,
   "metadata": {
    "slideshow": {
     "slide_type": "subslide"
    },
    "tags": []
   },
   "outputs": [],
   "source": [
    "# plot results\n",
    "def plot_results(t, x, v, a, N):\n",
    "    plt.figure()\n",
    "\n",
    "    plt.subplot(3, 1, 1)\n",
    "    plt.plot(t, x)\n",
    "    plt.title(\"SHO motion\")\n",
    "    plt.ylabel('x [m]')\n",
    "\n",
    "    plt.subplot(3, 1, 2)\n",
    "    plt.plot(t[:-1], v)\n",
    "    plt.ylabel('v [m/s]')\n",
    "\n",
    "    plt.subplot(3, 1, 3)\n",
    "    plt.plot(t[:-2], a)\n",
    "    plt.ylabel('a [m/s/s]')\n",
    "    plt.xlabel('t [s]')\n",
    "\n",
    "    plt.tight_layout()\n",
    "    # plt.savefig('T01.pdf')  # saves a pdf figure on disk"
   ]
  },
  {
   "cell_type": "code",
   "execution_count": 45,
   "metadata": {
    "slideshow": {
     "slide_type": "subslide"
    },
    "tags": []
   },
   "outputs": [
    {
     "data": {
      "image/png": "[encoded data removed]",
      "text/plain": [
       "<Figure size 640x480 with 3 Axes>"
      ]
     },
     "metadata": {},
     "output_type": "display_data"
    }
   ],
   "source": [
    "plot_results(t, x, v, a, N)"
   ]
  },
  {
   "cell_type": "code",
   "execution_count": null,
   "metadata": {},
   "outputs": [],
   "source": []
  }
 ],
 "metadata": {
  "celltoolbar": "Slideshow",
  "kernelspec": {
   "display_name": "Python 3 (ipykernel)",
   "language": "python",
   "name": "python3"
  },
  "language_info": {
   "codemirror_mode": {
    "name": "ipython",
    "version": 3
   },
   "file_extension": ".py",
   "mimetype": "text/x-python",
   "name": "python",
   "nbconvert_exporter": "python",
   "pygments_lexer": "ipython3",
   "version": "3.10.9"
  },
  "latex_metadata": {
   "affiliation": "PHY407, University of Toronto",
   "author": "Nico Grisouard",
   "title": "Lecture 1: python basics"
  }
 },
 "nbformat": 4,
 "nbformat_minor": 4
}
