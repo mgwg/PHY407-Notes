{
 "cells": [
  {
   "cell_type": "markdown",
   "id": "5a486afc-6e00-444b-a04e-27717cac254a",
   "metadata": {
    "tags": []
   },
   "source": [
    "## Finding Roots of a Non-Linear Equation"
   ]
  },
  {
   "cell_type": "markdown",
   "id": "f3b72951",
   "metadata": {
    "tags": []
   },
   "source": [
    "Consider the equation: $5e^{-x} +x - 5 = 0$ . Suppose we want to solve it with accuracy tolerance $\\epsilon = 10^{-6}$."
   ]
  },
  {
   "cell_type": "code",
   "execution_count": 27,
   "id": "2c3c118c",
   "metadata": {},
   "outputs": [],
   "source": [
    "import numpy as np\n",
    "import matplotlib.pyplot as plt\n",
    "\n",
    "eps_tol = 1e-6\n",
    "\n",
    "def f(x):\n",
    "    return 5*np.exp(-x)+x-5"
   ]
  },
  {
   "cell_type": "markdown",
   "id": "adb33484",
   "metadata": {},
   "source": [
    "First plot the function to get an idea of the roots"
   ]
  },
  {
   "cell_type": "code",
   "execution_count": 28,
   "id": "e598a3c0",
   "metadata": {},
   "outputs": [
    {
     "data": {
      "text/plain": [
       "Text(0, 0.5, 'f(x)')"
      ]
     },
     "execution_count": 28,
     "metadata": {},
     "output_type": "execute_result"
    },
    {
     "data": {
      "image/png": "[encoded data removed]",
      "text/plain": [
       "<Figure size 640x480 with 1 Axes>"
      ]
     },
     "metadata": {},
     "output_type": "display_data"
    }
   ],
   "source": [
    "x = np.linspace(-1, 10, 1000)\n",
    "\n",
    "plt.plot(x, f(x), color=\"hotpink\")\n",
    "plt.axhline(0, color=\"gray\", linestyle=\"--\")\n",
    "plt.xlabel(\"x\")\n",
    "plt.ylabel(\"f(x)\")"
   ]
  },
  {
   "cell_type": "markdown",
   "id": "2aaaab60-c576-4fb6-aa67-a9c1759e18db",
   "metadata": {},
   "source": [
    "### Exercise 1\n",
    "Solve using binary search. How many iterations are required?"
   ]
  },
  {
   "cell_type": "code",
   "execution_count": 21,
   "id": "17a7787e",
   "metadata": {},
   "outputs": [
    {
     "name": "stdout",
     "output_type": "stream",
     "text": [
      "iterations: 24, value:1.765653800944733e-07, midpoint: 4.965114146471024\n"
     ]
    }
   ],
   "source": [
    "x1 = 1\n",
    "x2 = 10\n",
    "err = np.abs(f(x1)*1000) # arbitrarily large initial error\n",
    "\n",
    "i = 0 # counter for num iterations\n",
    "\n",
    "while err > eps_tol:\n",
    "\n",
    "    i += 1 \n",
    "\n",
    "    xp = (x1+x2)/2 # midpoint of x1, x2\n",
    "\n",
    "    fp = f(xp)\n",
    "    f1 = f(x1)\n",
    "    f2 = f(x2)\n",
    "\n",
    "    # update bounds based on sign of f(x')\n",
    "    # require f(x) at lower bracket to be the opposite sign as the upper bracket\n",
    "    if fp > 0 and f2 > 0:\n",
    "        x2 = xp\n",
    "    else:\n",
    "        x1 = xp\n",
    "\n",
    "    err = np.abs(x2-x1)\n",
    "\n",
    "print(f\"iterations: {i}, value:{fp}, midpoint: {(x1+x2)/2}\")    "
   ]
  },
  {
   "cell_type": "markdown",
   "id": "8a9be76f-485f-4bfe-ae9d-9fd83c1af802",
   "metadata": {},
   "source": [
    "### Exercise 2\n",
    "Solve using relaxation. How many iterations are required?"
   ]
  },
  {
   "cell_type": "markdown",
   "id": "95e631bd",
   "metadata": {},
   "source": [
    "We need to recast the equation as $x=-5e^{-x}+5$"
   ]
  },
  {
   "cell_type": "code",
   "execution_count": 25,
   "id": "e87e4336",
   "metadata": {},
   "outputs": [],
   "source": [
    "def f2(x):\n",
    "    return -5*np.exp(-x)+5"
   ]
  },
  {
   "cell_type": "code",
   "execution_count": 39,
   "id": "1436e55b",
   "metadata": {},
   "outputs": [
    {
     "name": "stdout",
     "output_type": "stream",
     "text": [
      "iterations: 7, value:-9.696728753283423e-09, x: 4.965114221697042\n"
     ]
    }
   ],
   "source": [
    "x_old = 0 # save this for error estimation\n",
    "x_guess = 1\n",
    "err = np.abs(f(x_guess)*1000) # arbitrarily large initial error\n",
    "i = 0\n",
    "\n",
    "while err > eps_tol:\n",
    "    i += 1\n",
    "    x_old = x_guess\n",
    "    x_guess = f2(x_guess)\n",
    "    err = np.abs(x_old  - x_guess) # error in x\n",
    "\n",
    "print(f\"iterations: {i}, value:{f(x_guess)}, x: {x_guess}\")    "
   ]
  },
  {
   "cell_type": "markdown",
   "id": "6b66917e-862d-4cf5-a649-9fa6adea7eae",
   "metadata": {},
   "source": [
    "### Exercise 3\n",
    "Solve using Newton's Method. How many iterations are required?"
   ]
  },
  {
   "cell_type": "code",
   "execution_count": 40,
   "id": "6d7b7311",
   "metadata": {},
   "outputs": [],
   "source": [
    "def df(x):\n",
    "    return -5*np.exp(-x)+1"
   ]
  },
  {
   "cell_type": "code",
   "execution_count": 47,
   "id": "1b5abc32",
   "metadata": {},
   "outputs": [
    {
     "name": "stdout",
     "output_type": "stream",
     "text": [
      "iterations: 7, value:1.5480949855373183e-12, x: -3.8694996886171165e-13\n"
     ]
    }
   ],
   "source": [
    "x1 = 1 \n",
    "x2 = 0 # x2 is just used to store the old x1 to calculate the error with\n",
    "       # initialize it to something random\n",
    "err = np.abs(f(x1)*1000)\n",
    "i = 0\n",
    "\n",
    "while err > eps_tol:\n",
    "    i += 1\n",
    "    x2 = x1 - f(x1)/df(x1)\n",
    "    err = np.abs(x2-x1)\n",
    "    x1 = x2\n",
    "\n",
    "print(f\"iterations: {i}, value:{f(x2)}, x: {x2}\")  "
   ]
  },
  {
   "cell_type": "code",
   "execution_count": 46,
   "id": "16aceed1",
   "metadata": {},
   "outputs": [
    {
     "name": "stdout",
     "output_type": "stream",
     "text": [
      "iterations: 3, value:0.0, x: 4.965114231744276\n"
     ]
    }
   ],
   "source": [
    "x1 = 5\n",
    "x2 = 0\n",
    "err = np.abs(f(x1)*1000)\n",
    "i = 0\n",
    "\n",
    "while err > eps_tol:\n",
    "    i += 1\n",
    "    x2 = x1 - f(x1)/df(x1)\n",
    "    err = np.abs(x2-x1)\n",
    "    x1 = x2\n",
    "\n",
    "print(f\"iterations: {i}, value:{f(x2)}, x: {x2}\")  "
   ]
  },
  {
   "cell_type": "markdown",
   "id": "7de5d2e7",
   "metadata": {},
   "source": [
    "The root we find depends on the slope of f and initial guess"
   ]
  },
  {
   "cell_type": "markdown",
   "id": "0f65aac9-902b-4fb8-bd8f-4c8c5a796875",
   "metadata": {},
   "source": [
    "### Exercise 4\n",
    "Solve using Secant Method. How many iterations are required?"
   ]
  },
  {
   "cell_type": "code",
   "execution_count": 57,
   "id": "7d80195b",
   "metadata": {},
   "outputs": [
    {
     "name": "stdout",
     "output_type": "stream",
     "text": [
      "iterations: 5, value:-1.6157741811184678e-11, x: 4.965114231727535\n"
     ]
    }
   ],
   "source": [
    "x1 = 1 \n",
    "x2 = 8 # actually matters now\n",
    "err = np.abs(f(x1)*1000)\n",
    "i = 0\n",
    "\n",
    "while err > eps_tol:\n",
    "    i += 1\n",
    "\n",
    "    df2 = (f(x2)-f(x1))/(x2-x1)\n",
    "    x3 = x2 - f(x2)/df2\n",
    "\n",
    "    err = np.abs(x3-x2)\n",
    "    x1, x2 = x2, x3\n",
    "\n",
    "print(f\"iterations: {i}, value:{f(x3)}, x: {x3}\")  "
   ]
  },
  {
   "cell_type": "markdown",
   "id": "e3d4efb4",
   "metadata": {
    "tags": []
   },
   "source": [
    "## Fun with Circuits"
   ]
  },
  {
   "cell_type": "markdown",
   "id": "169a643b-030a-4f83-8478-73cfda955b0c",
   "metadata": {
    "tags": []
   },
   "source": [
    "### Physics background"
   ]
  },
  {
   "cell_type": "markdown",
   "id": "c1a28903",
   "metadata": {},
   "source": [
    "![Newman's Exercise 6.5](rescap.png)"
   ]
  },
  {
   "cell_type": "markdown",
   "id": "c6c82a27",
   "metadata": {},
   "source": [
    "Consider the above circuit. Suppose the voltage $V_+$ is time-varying and sinusoidal of the form $V_+ = x_+ \\exp(i \\omega t)$ with $x_+$ a constant.\n",
    "\n",
    "The resistors in the circuit can be treated using Ohm's law.\n",
    "For the capacitors the charge $Q$ and voltage $V$ across them are related by the capacitor law $Q=CV$, where $C$ is the capacitance.\n",
    "Differentiating both sides of this expression gives the current $I$ flowing in on one side of the capacitor and out on the other:\n",
    "\\begin{equation}\n",
    "  I = \\frac{dQ}{dt} = C \\frac{dV}{dt}.\n",
    "\\end{equation}\n",
    "Now assume the voltages at the points labeled 1, 2, and 3 are of the form $V_1 = x_1 \\exp(i \\omega t)$, $V_2 = x_2 \\exp(i \\omega t)$, and $V_3 = x_3 \\exp(i \\omega t)$.\n",
    "If you add up the currents using Kirchoff's law that at a junction the sum of the currents in equals the sum of the currents out, you can find that the constants $x_1$,\n",
    "$x_2$, and $x_3$ satisfy the equations\n",
    "\\begin{aligned}\n",
    "\\left( {1\\over R_1} + {1\\over R_4} + i\\omega C_1 \\right) x_1 - i\\omega C_1 x_2\n",
    "& = {x_+\\over R_1}\\,, \\\\\n",
    "i\\omega C_1 x_1 + \\left( {1\\over R_2} + {1\\over R_5} + i\\omega C_1 + i\\omega C_2 \\right) x_2 - i\\omega C_2 x_3\n",
    "                                                                                          & = {x_+\\over R_2}\\,, \\\\\n",
    "i\\omega C_2 x_2 + \\left( {1\\over R_3} + {1\\over R_6} + i\\omega C_2 \\right) x_3\n",
    "& = {x_+\\over R_3}\\,.\n",
    "\\end{aligned}\n",
    "This is a linear system of equations for three complex numbers, $x_1$, $x_2$, and $x_3$."
   ]
  },
  {
   "cell_type": "markdown",
   "id": "906454e9-0a7d-4788-9859-9fc1e459efc4",
   "metadata": {
    "tags": []
   },
   "source": [
    "### Exercise 5"
   ]
  },
  {
   "cell_type": "markdown",
   "id": "f8a82175-8163-4eed-8596-28e65263e267",
   "metadata": {},
   "source": [
    "We will be solving the above linear system of equations in the form $A x = b$, where $x$ is the vector $(x_1 x_2 x_3)$ and $b$ is the vector composed of the right-hand sides of the equations above.\n",
    "\n",
    "Write a function that takes as input the list of resistance values ($R_1$ to $R_6$) and the list of capacitances ($C_1$ and $C_2$), and returns (as numpy.array) the matrix $A$. \n",
    "Write another function that takes as input the list of resistance values and the value of $x+$, and returns (as numpy.array) the vector $b$."
   ]
  },
  {
   "cell_type": "code",
   "execution_count": 79,
   "id": "2efbcf27",
   "metadata": {},
   "outputs": [],
   "source": [
    "def A(Rs:np.ndarray, wCs:np.ndarray) -> np.ndarray:\n",
    "    A = np.zeros((3,3)).astype(complex)\n",
    "    J = 0+1j\n",
    "\n",
    "    # Row 1 (x+/R1)\n",
    "    A[0, 0] = (1/Rs[0] + 1/Rs[3] + + wCs[0]*J)\n",
    "    A[0, 1] = 0-wCs[0]*J\n",
    "\n",
    "    # Row 2 (x+/R2)\n",
    "    A[1, 0] = J*wCs[0] \n",
    "    A[1, 1] = (1/Rs[1] + 1/Rs[4] + J*wCs[1])\n",
    "    A[1, 2] =  -J*wCs[1]\n",
    "\n",
    "    # Row 3 (x+/R3)\n",
    "    A[2, 1] = J*wCs[1]\n",
    "    A[2, 2] = (1/Rs[2] + 1/Rs[5] + J*wCs[1])\n",
    "\n",
    "    return A\n",
    "\n",
    "def b(Rs, xplus):\n",
    "    return xplus/Rs[:3]"
   ]
  },
  {
   "cell_type": "markdown",
   "id": "4dd6e2c2-0b82-46b1-8a27-e5e709a01a2d",
   "metadata": {
    "tags": []
   },
   "source": [
    "### Exercise 6"
   ]
  },
  {
   "cell_type": "markdown",
   "id": "cc520b62",
   "metadata": {},
   "source": [
    "Use Gaussian Elimination with partial pivoting (see the code fragment below) to solve for $x_1$, $x_2$, and $x_3$. Assume the following:\n",
    "\\begin{align*}\n",
    "R_1 &= R_3 = R_5 = 1\\,\\mathrm{k}\\Omega, \\\\\n",
    "R_2 &= R_4 = R_6 = 2\\,\\mathrm{k}\\Omega, \\\\\n",
    "C_1 &= 1\\,\\mu\\mathrm{F},\\qquad C_2 = 0.5\\,\\mu\\mathrm{F}, \\\\\n",
    "x_+ &= 3\\,\\mathrm{V},\\qquad \\omega = 1000~\\text{rad/s}.\n",
    "\\end{align*}\n",
    "\n",
    "Have your program calculate and print, at $t=0$, the amplitudes of the three voltages $|V_1|$, $|V_2|$, and $|V_3|$ and their phases (i.e. the phases of the coefficients $x_1, x_2, x_3$) in degrees."
   ]
  },
  {
   "cell_type": "markdown",
   "id": "b5056cd3-37a2-4bd1-b1e5-2afe70c6d8c5",
   "metadata": {},
   "source": [
    "*Notice that the matrix for this problem has complex elements. You will need to define a complex array to hold it, but your routine should be able to work with real or complex arguments.*\n",
    "\n",
    "*Hint: the built-in abs() will compute the magnitude, and numpy.angle() will compute the phase of a complex number. You could also use polar and phase from the cmath package.*"
   ]
  },
  {
   "cell_type": "code",
   "execution_count": 143,
   "id": "b6121450-ef31-42cb-81d2-7960651e0f31",
   "metadata": {
    "tags": []
   },
   "outputs": [],
   "source": [
    "import numpy as np\n",
    "def GaussElim(A_in, v_in, pivot=False):\n",
    "    \"\"\"Implement Gaussian Elimination. This should be non-destructive for input\n",
    "    arrays, so we will copy A and v to temporary variables\n",
    "    It is actually clever to modify this function, rather than copy it and\n",
    "    modify it in a separate function. The reason is that if you find a bug in\n",
    "    the common parts, then you only need to fix it once.\n",
    "    IN:\n",
    "    A_in [np.array], the matrix to pivot and triangularize\n",
    "    v_in [np.array], the RHS vector\n",
    "    pivot [bool, default-False]: user decides if we pivot or not.\n",
    "    OUT:\n",
    "    x, the vector solution of A_in x = v_in \"\"\"\n",
    "    # copy A and v to temporary variables using copy command\n",
    "    # EDIT: specify A and v as complex arrays so Python doesn't typecast elements to real numbers\n",
    "    A = np.copy(A_in).astype(complex) \n",
    "    v = np.copy(v_in).astype(complex)\n",
    "    N = len(v)\n",
    "\n",
    "    for m in range(N):\n",
    "        if pivot:  # This is where I modify GaussElim\n",
    "            # compare the mth element to all other mth elements below\n",
    "            ZeRow = m\n",
    "            for mm in range(m+1, N):\n",
    "                if abs(A[mm, m]) > abs(A[ZeRow, m]):\n",
    "                    ZeRow = mm  # I could swap everytime I find a hit, but that\n",
    "                    # would be a lot of operations. Instead, I just take note\n",
    "                    # of which row emerges as the winner\n",
    "\n",
    "            if ZeRow != m:  # now we know if and what to swap\n",
    "                A[ZeRow, :], A[m, :] = np.copy(A[m, :]), np.copy(A[ZeRow, :])\n",
    "                v[ZeRow], v[m] = np.copy(v[m]), np.copy(v[ZeRow])\n",
    "\n",
    "        # Divide by the diagonal element\n",
    "        div = A[m, m]\n",
    "        A[m, :] /= div\n",
    "        v[m] /= div\n",
    "\n",
    "        # Now subtract from the lower rows\n",
    "        for i in range(m+1, N):\n",
    "            mult = A[i, m]\n",
    "            A[i, :] -= mult*A[m, :]\n",
    "            v[i] -= mult*v[m]\n",
    "\n",
    "    # Backsubstitution\n",
    "    # create an array of the same type as the input array\n",
    "    x = np.empty(N, dtype=v.dtype)\n",
    "    for m in range(N-1, -1, -1):\n",
    "        x[m] = v[m]\n",
    "        for i in range(m+1, N):\n",
    "            x[m] -= A[m, i]*x[i]\n",
    "    return x\n",
    "\n",
    "def PartialPivot(A_in, v_in):\n",
    "    \"\"\" see textbook p. 222) \"\"\"\n",
    "    return GaussElim(A_in, v_in, True)"
   ]
  },
  {
   "cell_type": "code",
   "execution_count": 144,
   "id": "53ed8530",
   "metadata": {},
   "outputs": [],
   "source": [
    "def V(Rs, w, Cs, xplus, t):\n",
    "    wCs = w*Cs\n",
    "    J = 0+1j\n",
    "    x = PartialPivot(A(Rs, wCs), b(Rs, xplus))\n",
    "    \n",
    "    V = []\n",
    "    for i in range(3):\n",
    "        V.append(x[i]*np.exp(w*t*J))\n",
    "\n",
    "    return np.array(V, dtype=complex)"
   ]
  },
  {
   "cell_type": "code",
   "execution_count": 157,
   "id": "9c99ea0f",
   "metadata": {},
   "outputs": [
    {
     "data": {
      "text/plain": [
       "array([1.81588903-1.0517024j , 0.23833544-0.77553594j,\n",
       "       1.54350567-0.59394704j])"
      ]
     },
     "execution_count": 157,
     "metadata": {},
     "output_type": "execute_result"
    }
   ],
   "source": [
    "R1, R3, R5 = 1e3, 1e3, 1e3\n",
    "R2, R4, R6 = 2e3, 2e3, 2e3\n",
    "\n",
    "C1, C2 = 1e-6, 0.5e-6\n",
    "w = 1000\n",
    "\n",
    "Rs = np.array([R1, R2, R3, R4, R5, R6])\n",
    "Cs = np.array([C1, C2])\n",
    "xplus = 3 \n",
    "\n",
    "V( Rs, w, Cs, xplus, 0)"
   ]
  },
  {
   "cell_type": "markdown",
   "id": "90d8c1a7-b664-4892-9864-6b1071e9d34a",
   "metadata": {},
   "source": [
    "### Exercise 6"
   ]
  },
  {
   "cell_type": "markdown",
   "id": "6ba6fa60",
   "metadata": {},
   "source": [
    "\n",
    "Plot the (real) voltages $|V_1|$, $|V_2|$, and $|V_3|$ as a function of time for two periods\n",
    "of the oscillations. You should have 3 lines on the same plot, with labelled axes and a nice legend.\n",
    "\n",
    "*Hint: about 256 points should be enough to obtain a nice plot.*"
   ]
  },
  {
   "cell_type": "code",
   "execution_count": 163,
   "id": "5fdae2fa",
   "metadata": {},
   "outputs": [
    {
     "data": {
      "text/plain": [
       "<matplotlib.legend.Legend at 0x11fe45550>"
      ]
     },
     "execution_count": 163,
     "metadata": {},
     "output_type": "execute_result"
    },
    {
     "data": {
      "image/png": "[encoded data removed]",
      "text/plain": [
       "<Figure size 640x480 with 1 Axes>"
      ]
     },
     "metadata": {},
     "output_type": "display_data"
    }
   ],
   "source": [
    "ts = np.linspace(0, 2*2*np.pi/w, 1000)\n",
    "Vs = V(Rs, w, Cs, xplus, ts)\n",
    "\n",
    "for i in range(3):\n",
    "    plt.plot(ts, np.abs(Vs[i]))\n",
    "plt.legend([\"|V1|\", \"|V2|\", \"|V3|\"])"
   ]
  },
  {
   "cell_type": "markdown",
   "id": "5ca16d30",
   "metadata": {},
   "source": [
    "This is wrong, and I can't be bothered to fix it..."
   ]
  }
 ],
 "metadata": {
  "kernelspec": {
   "display_name": "Python 3 (ipykernel)",
   "language": "python",
   "name": "python3"
  },
  "language_info": {
   "codemirror_mode": {
    "name": "ipython",
    "version": 3
   },
   "file_extension": ".py",
   "mimetype": "text/x-python",
   "name": "python",
   "nbconvert_exporter": "python",
   "pygments_lexer": "ipython3",
   "version": "3.11.4"
  }
 },
 "nbformat": 4,
 "nbformat_minor": 5
}
