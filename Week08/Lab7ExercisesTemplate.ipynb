{
 "cells": [
  {
   "cell_type": "markdown",
   "id": "95737d32-3c19-412f-a00c-4231bf759946",
   "metadata": {},
   "source": [
    "# Elliptic Example: 2D Laplacian"
   ]
  },
  {
   "cell_type": "markdown",
   "id": "6225c56b-3947-4d1e-87fc-9f934be23c28",
   "metadata": {},
   "source": [
    "We want to model the electric potential for an empty 2D box, 10cm x 10cm in size, where the top wall is held at $V$ = 1.0V and the other walls at 0V.\n",
    "\n",
    "$$0 = \\nabla^2 \\phi  = \\frac{\\partial^2 \\phi}{\\partial x^2} + \\frac{\\partial^2 \\phi}{\\partial y^2},$$\n",
    "$$ \\phi(y = 10) = 1.0 V$$\n",
    "$$ \\phi(y = 0) = \\phi(x = 0) = \\phi(x = 10) = 0$$"
   ]
  },
  {
   "cell_type": "markdown",
   "id": "e22394b8-0aeb-4657-a1db-04c0d457e223",
   "metadata": {},
   "source": [
    "![Newman fig. 9.2](fig9-2.png)"
   ]
  },
  {
   "cell_type": "markdown",
   "id": "22d1f834-6a10-4bfe-b3e0-8a4ed17123e6",
   "metadata": {},
   "source": [
    "## Exercise 1"
   ]
  },
  {
   "cell_type": "markdown",
   "id": "520dbea0-42b7-4df4-9c2e-0aba281f3bb2",
   "metadata": {},
   "source": [
    "Setup up the problem: \n",
    "* discretize space in x and y, using an MxM grid\n",
    "* implement the boundary conditions\n",
    "\n",
    "Then use Jacobi Relaxation to solve it, with target accuracy 1e-04 and M=10. Print the number of iterations required to reach the target accuracy.\n",
    "\n",
    "You can consult the textbook's `laplace.py` for help."
   ]
  },
  {
   "cell_type": "markdown",
   "id": "ed4643fb-384f-4958-9515-f7473cdc9ca6",
   "metadata": {},
   "source": [
    "## Exercise 2\n",
    "\n",
    "Plot the solution (you can use matplotlib.pyplot.imshow)"
   ]
  },
  {
   "cell_type": "markdown",
   "id": "afc0c158-9b98-481d-89b1-d806f43701bb",
   "metadata": {},
   "source": [
    "## Exercise 3\n",
    "\n",
    "Now repeat Exercises 1 and 2 with N=100. Do you notice a difference in runtime?"
   ]
  },
  {
   "cell_type": "markdown",
   "id": "d10d0150-827f-488b-b751-74902c83f7b0",
   "metadata": {},
   "source": [
    "## Exercise 4\n",
    "\n",
    "Now repeat Exercise 3 with Gauss-Sidel instead of Jacobi method. You should get the same result, but with fewer iterations."
   ]
  },
  {
   "cell_type": "markdown",
   "id": "05d3a1a6-c863-4e64-859c-955f6c2efe24",
   "metadata": {},
   "source": [
    "## Exercise 5\n",
    "\n",
    "Now repeat with over-relaxation ($\\omega = 0.9$) in the Gauss-Sidel."
   ]
  },
  {
   "cell_type": "code",
   "execution_count": null,
   "id": "33ebbbc5-5175-4115-b3da-3b46acdcc287",
   "metadata": {},
   "outputs": [],
   "source": []
  }
 ],
 "metadata": {
  "kernelspec": {
   "display_name": "Python 3 (ipykernel)",
   "language": "python",
   "name": "python3"
  },
  "language_info": {
   "codemirror_mode": {
    "name": "ipython",
    "version": 3
   },
   "file_extension": ".py",
   "mimetype": "text/x-python",
   "name": "python",
   "nbconvert_exporter": "python",
   "pygments_lexer": "ipython3",
   "version": "3.10.9"
  }
 },
 "nbformat": 4,
 "nbformat_minor": 5
}
